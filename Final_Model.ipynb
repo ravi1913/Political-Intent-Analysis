{
  "nbformat": 4,
  "nbformat_minor": 0,
  "metadata": {
    "colab": {
      "name": "Final_Model.ipynb",
      "provenance": [],
      "collapsed_sections": [
        "J2028UeESOQX",
        "Z_XbDJPKha-P",
        "u_BWQ-_-hgA3",
        "3llvEr6E2uPX"
      ]
    },
    "kernelspec": {
      "name": "python3",
      "display_name": "Python 3"
    },
    "accelerator": "GPU"
  },
  "cells": [
    {
      "cell_type": "markdown",
      "metadata": {
        "id": "J2028UeESOQX",
        "colab_type": "text"
      },
      "source": [
        "## Loading the dataset and importing all necessary libraries\n",
        "\n"
      ]
    },
    {
      "cell_type": "code",
      "metadata": {
        "id": "t-ImXDp4ouy9",
        "colab_type": "code",
        "colab": {}
      },
      "source": [
        "%tensorflow_version 2.x"
      ],
      "execution_count": 0,
      "outputs": []
    },
    {
      "cell_type": "code",
      "metadata": {
        "id": "TZOtymgpTk2H",
        "colab_type": "code",
        "colab": {}
      },
      "source": [
        "import numpy as np # linear algebra\n",
        "import pandas as pd # data processing, CSV file I/O (e.g. pd.read_csv)\n",
        "import tensorflow as tf\n",
        "from sklearn.feature_extraction.text import CountVectorizer\n",
        "from tensorflow.python.keras.preprocessing.text import Tokenizer\n",
        "from tensorflow.python.keras.preprocessing.sequence import pad_sequences\n",
        "from tensorflow.python.keras.models import Sequential\n",
        "from tensorflow.python.keras.layers import Dense, Embedding, LSTM, SpatialDropout1D, Bidirectional, Dropout, GlobalMaxPooling1D, Conv1D, Activation\n",
        "from sklearn.model_selection import train_test_split\n",
        "from tensorflow.python.keras.utils.np_utils import to_categorical\n",
        "from tensorflow.python.keras.callbacks import ModelCheckpoint\n",
        "import re\n"
      ],
      "execution_count": 0,
      "outputs": []
    },
    {
      "cell_type": "code",
      "metadata": {
        "id": "JWZQ80-0ksqe",
        "colab_type": "code",
        "outputId": "dfedb583-a51e-425a-e6be-1065da971f02",
        "colab": {
          "base_uri": "https://localhost:8080/",
          "height": 122
        }
      },
      "source": [
        "from google.colab import drive\n",
        "drive.mount('/content/drive')"
      ],
      "execution_count": 0,
      "outputs": [
        {
          "output_type": "stream",
          "text": [
            "Go to this URL in a browser: https://accounts.google.com/o/oauth2/auth?client_id=947318989803-6bn6qk8qdgf4n4g3pfee6491hc0brc4i.apps.googleusercontent.com&redirect_uri=urn%3aietf%3awg%3aoauth%3a2.0%3aoob&response_type=code&scope=email%20https%3a%2f%2fwww.googleapis.com%2fauth%2fdocs.test%20https%3a%2f%2fwww.googleapis.com%2fauth%2fdrive%20https%3a%2f%2fwww.googleapis.com%2fauth%2fdrive.photos.readonly%20https%3a%2f%2fwww.googleapis.com%2fauth%2fpeopleapi.readonly\n",
            "\n",
            "Enter your authorization code:\n",
            "··········\n",
            "Mounted at /content/drive\n"
          ],
          "name": "stdout"
        }
      ]
    },
    {
      "cell_type": "code",
      "metadata": {
        "id": "tmXlOcSnWD16",
        "colab_type": "code",
        "colab": {}
      },
      "source": [
        "data = pd.read_csv('/content/drive/My Drive/sarcasmtweets.csv')\n",
        "# Keeping only the neccessary columns\n",
        "data = data[['Label','Tweet']]"
      ],
      "execution_count": 0,
      "outputs": []
    },
    {
      "cell_type": "code",
      "metadata": {
        "id": "hIMfjo3PQyzI",
        "colab_type": "code",
        "colab": {}
      },
      "source": [
        "data1 = pd.read_excel('/content/drive/My Drive/finalex.xlsx')\n",
        "data1 = data[['Tweet']]"
      ],
      "execution_count": 0,
      "outputs": []
    },
    {
      "cell_type": "code",
      "metadata": {
        "id": "_BVeVD4gCVl2",
        "colab_type": "code",
        "outputId": "e2521761-16a2-4ec0-ff1a-c717f126f9d2",
        "colab": {
          "base_uri": "https://localhost:8080/",
          "height": 34
        }
      },
      "source": [
        "from statistics import mean\n",
        "print(mean(data[\"Tweet\"].str.len()))  # calculating the average tweet length for \n",
        "                                 #shortening and padding in pre-processsing step"
      ],
      "execution_count": 0,
      "outputs": [
        {
          "output_type": "stream",
          "text": [
            "90.47596782302665\n"
          ],
          "name": "stdout"
        }
      ]
    },
    {
      "cell_type": "markdown",
      "metadata": {
        "id": "Z_XbDJPKha-P",
        "colab_type": "text"
      },
      "source": [
        "## Data Pre-Processing"
      ]
    },
    {
      "cell_type": "code",
      "metadata": {
        "id": "R_Bnq1lXYMn8",
        "colab_type": "code",
        "outputId": "cb232df1-6f69-40ac-c948-c6db16c9569c",
        "colab": {
          "base_uri": "https://localhost:8080/",
          "height": 51
        }
      },
      "source": [
        "data[\"Tweet\"] = data[\"Tweet\"].apply(lambda x: x.lower())\n",
        "\n",
        "print(data[ data['Label'] == 0].size)\n",
        "print(data[ data['Label'] == 1].size)\n",
        "\n",
        "data[\"Tweet\"] = data[\"Tweet\"].str.replace('#sarcasm','')\n",
        "data[\"Tweet\"] = data[\"Tweet\"].str.replace('rt','')\n",
        "data[\"Tweet\"] = data[\"Tweet\"].apply((lambda x: re.sub('[^a-zA-z0-9\\s]','',x)))\n",
        "\n",
        "max_fatures = 8000\n",
        "tokenizer = Tokenizer(num_words=max_fatures, split=' ')\n",
        "tokenizer.fit_on_texts(data['Tweet'].values)\n",
        "X = tokenizer.texts_to_sequences(data['Tweet'].values)\n",
        "X = pad_sequences(X, maxlen = 120)"
      ],
      "execution_count": 0,
      "outputs": [
        {
          "output_type": "stream",
          "text": [
            "42584\n",
            "36976\n"
          ],
          "name": "stdout"
        }
      ]
    },
    {
      "cell_type": "code",
      "metadata": {
        "id": "-5AX4vBtA6u1",
        "colab_type": "code",
        "outputId": "b5e892c2-c059-4c41-82bd-20fed1681081",
        "colab": {
          "base_uri": "https://localhost:8080/",
          "height": 34
        }
      },
      "source": [
        "print(mean(data1[\"Tweet\"].str.len()))"
      ],
      "execution_count": 0,
      "outputs": [
        {
          "output_type": "stream",
          "text": [
            "90.47596782302665\n"
          ],
          "name": "stdout"
        }
      ]
    },
    {
      "cell_type": "markdown",
      "metadata": {
        "id": "u_BWQ-_-hgA3",
        "colab_type": "text"
      },
      "source": [
        "## CNN creation (Sarcasm detection)"
      ]
    },
    {
      "cell_type": "code",
      "metadata": {
        "id": "eIAL4fyBhjyD",
        "colab_type": "code",
        "outputId": "8e3cddfe-faad-4503-d1b5-4a60546a3124",
        "colab": {
          "base_uri": "https://localhost:8080/",
          "height": 476
        }
      },
      "source": [
        "embed_dim = 50\n",
        "sarcasm_model = Sequential()\n",
        "sarcasm_model.add(Embedding(max_fatures, embed_dim,input_length = X.shape[1]))\n",
        "sarcasm_model.add(Dropout(0.2))\n",
        "sarcasm_model.add(Conv1D(250,3,padding='valid',activation='relu',strides=1))\n",
        "sarcasm_model.add(GlobalMaxPooling1D())\n",
        "sarcasm_model.add(Dense(250))\n",
        "sarcasm_model.add(Dropout(0.2))\n",
        "sarcasm_model.add(Activation('relu'))       \n",
        "#dropouts ignore randomly selected neurons increasing robustness\n",
        "\n",
        "# We project onto a single unit output layer, and squash it with a sigmoid:\n",
        "sarcasm_model.add(Dense(2))\n",
        "sarcasm_model.add(Activation('sigmoid'))\n",
        "sarcasm_model.compile(loss = 'binary_crossentropy', optimizer='adam' ,metrics = ['accuracy'])\n",
        "print(sarcasm_model.summary())"
      ],
      "execution_count": 0,
      "outputs": [
        {
          "output_type": "stream",
          "text": [
            "Model: \"sequential\"\n",
            "_________________________________________________________________\n",
            "Layer (type)                 Output Shape              Param #   \n",
            "=================================================================\n",
            "embedding (Embedding)        (None, 120, 50)           400000    \n",
            "_________________________________________________________________\n",
            "dropout (Dropout)            (None, 120, 50)           0         \n",
            "_________________________________________________________________\n",
            "conv1d (Conv1D)              (None, 118, 250)          37750     \n",
            "_________________________________________________________________\n",
            "global_max_pooling1d (Global (None, 250)               0         \n",
            "_________________________________________________________________\n",
            "dense (Dense)                (None, 250)               62750     \n",
            "_________________________________________________________________\n",
            "dropout_1 (Dropout)          (None, 250)               0         \n",
            "_________________________________________________________________\n",
            "activation (Activation)      (None, 250)               0         \n",
            "_________________________________________________________________\n",
            "dense_1 (Dense)              (None, 2)                 502       \n",
            "_________________________________________________________________\n",
            "activation_1 (Activation)    (None, 2)                 0         \n",
            "=================================================================\n",
            "Total params: 501,002\n",
            "Trainable params: 501,002\n",
            "Non-trainable params: 0\n",
            "_________________________________________________________________\n",
            "None\n"
          ],
          "name": "stdout"
        }
      ]
    },
    {
      "cell_type": "code",
      "metadata": {
        "id": "MJbwrA8_h9uF",
        "colab_type": "code",
        "outputId": "a9a42422-2ed1-413e-bc41-88d83a6143d3",
        "colab": {
          "base_uri": "https://localhost:8080/",
          "height": 51
        }
      },
      "source": [
        "#Creating the training and testing samples for sarcasm detection\n",
        "Y = pd.get_dummies(data['Label']).values\n",
        "X_train, X_test, Y_train, Y_test = train_test_split(X,Y, test_size = 0.1, random_state = 49)\n",
        "print(X_train.shape,Y_train.shape)\n",
        "print(X_test.shape,Y_test.shape)"
      ],
      "execution_count": 0,
      "outputs": [
        {
          "output_type": "stream",
          "text": [
            "(35802, 120) (35802, 2)\n",
            "(3978, 120) (3978, 2)\n"
          ],
          "name": "stdout"
        }
      ]
    },
    {
      "cell_type": "code",
      "metadata": {
        "id": "tv0QhikNZKkL",
        "colab_type": "code",
        "outputId": "e09baa60-5d74-4311-c063-836fa7123f70",
        "colab": {
          "base_uri": "https://localhost:8080/",
          "height": 136
        }
      },
      "source": [
        "print(Y)"
      ],
      "execution_count": 0,
      "outputs": [
        {
          "output_type": "stream",
          "text": [
            "[[1 0]\n",
            " [1 0]\n",
            " [1 0]\n",
            " ...\n",
            " [0 1]\n",
            " [0 1]\n",
            " [0 1]]\n"
          ],
          "name": "stdout"
        }
      ]
    },
    {
      "cell_type": "code",
      "metadata": {
        "id": "g2DcKGJaidSs",
        "colab_type": "code",
        "outputId": "685d397c-ee2a-4739-a699-aac9d57fd7e3",
        "colab": {
          "base_uri": "https://localhost:8080/",
          "height": 357
        }
      },
      "source": [
        "#fitting the created model onto the training sample, using 5 epochs\n",
        "#best model is saved for use later\n",
        "batch_size = 64\n",
        "checkpoint_path='/content/gdrive/My Drive/sarcasmModel.h5'\n",
        "checkpoint = ModelCheckpoint(checkpoint_path, monitor='val_loss', verbose=1, save_best_only=True,mode = 'min')\n",
        "history = sarcasm_model.fit(X_train, Y_train, epochs = 5, batch_size=batch_size, verbose = 1,shuffle=True,validation_data=(X_test,Y_test),callbacks= [checkpoint]) "
      ],
      "execution_count": 0,
      "outputs": [
        {
          "output_type": "stream",
          "text": [
            "Epoch 1/5\n",
            "560/560 [==============================] - ETA: 0s - loss: 0.5168 - accuracy: 0.7283\n",
            "Epoch 00001: val_loss improved from inf to 0.41705, saving model to /content/gdrive/My Drive/sarcasmModel.h5\n",
            "560/560 [==============================] - 8s 15ms/step - loss: 0.5168 - accuracy: 0.7283 - val_loss: 0.4170 - val_accuracy: 0.8079\n",
            "Epoch 2/5\n",
            "558/560 [============================>.] - ETA: 0s - loss: 0.3604 - accuracy: 0.8443\n",
            "Epoch 00002: val_loss improved from 0.41705 to 0.40139, saving model to /content/gdrive/My Drive/sarcasmModel.h5\n",
            "560/560 [==============================] - 7s 13ms/step - loss: 0.3604 - accuracy: 0.8442 - val_loss: 0.4014 - val_accuracy: 0.8200\n",
            "Epoch 3/5\n",
            "559/560 [============================>.] - ETA: 0s - loss: 0.2847 - accuracy: 0.8834\n",
            "Epoch 00003: val_loss did not improve from 0.40139\n",
            "560/560 [==============================] - 8s 14ms/step - loss: 0.2847 - accuracy: 0.8833 - val_loss: 0.4278 - val_accuracy: 0.8052\n",
            "Epoch 4/5\n",
            "559/560 [============================>.] - ETA: 0s - loss: 0.2180 - accuracy: 0.9144\n",
            "Epoch 00004: val_loss did not improve from 0.40139\n",
            "560/560 [==============================] - 7s 13ms/step - loss: 0.2181 - accuracy: 0.9144 - val_loss: 0.4830 - val_accuracy: 0.8029\n",
            "Epoch 5/5\n",
            "557/560 [============================>.] - ETA: 0s - loss: 0.1653 - accuracy: 0.9374\n",
            "Epoch 00005: val_loss did not improve from 0.40139\n",
            "560/560 [==============================] - 7s 13ms/step - loss: 0.1651 - accuracy: 0.9374 - val_loss: 0.5452 - val_accuracy: 0.7974\n"
          ],
          "name": "stdout"
        }
      ]
    },
    {
      "cell_type": "code",
      "metadata": {
        "id": "CnHYFAq2k2hD",
        "colab_type": "code",
        "outputId": "406f8bef-392a-480c-bdf8-40bc43975cb4",
        "colab": {
          "base_uri": "https://localhost:8080/",
          "height": 68
        }
      },
      "source": [
        "score,acc = sarcasm_model.evaluate(X_test, Y_test, verbose = 2, batch_size = batch_size)\n",
        "print(\"score: %.2f\" % (score))\n",
        "print(\"acc: %.2f\" % (acc))"
      ],
      "execution_count": 0,
      "outputs": [
        {
          "output_type": "stream",
          "text": [
            "63/63 - 0s - loss: 0.5452 - accuracy: 0.7974\n",
            "score: 0.55\n",
            "acc: 0.80\n"
          ],
          "name": "stdout"
        }
      ]
    },
    {
      "cell_type": "markdown",
      "metadata": {
        "id": "3llvEr6E2uPX",
        "colab_type": "text"
      },
      "source": [
        "## Plotting Validation loss VS validation accuracy"
      ]
    },
    {
      "cell_type": "code",
      "metadata": {
        "id": "32CncveoC6Kh",
        "colab_type": "code",
        "outputId": "a602732c-5f5f-4212-ecef-798343cc1a15",
        "colab": {
          "base_uri": "https://localhost:8080/",
          "height": 281
        }
      },
      "source": [
        "import matplotlib.pyplot as plt\n",
        "plt.title('Loss VS Acc')\n",
        "plt.plot(history.history['loss'], label='train_loss')\n",
        "plt.plot(history.history['val_loss'], label='val_loss')\n",
        "plt.plot(history.history['val_accuracy'], label='val_acc')\n",
        "plt.plot(history.history['accuracy'], label='train_acc')\n",
        "plt.legend()\n",
        "plt.show();"
      ],
      "execution_count": 0,
      "outputs": [
        {
          "output_type": "display_data",
          "data": {
            "image/png": "[encoded data removed]",
            "text/plain": [
              "<Figure size 432x288 with 1 Axes>"
            ]
          },
          "metadata": {
            "tags": [],
            "needs_background": "light"
          }
        }
      ]
    },
    {
      "cell_type": "markdown",
      "metadata": {
        "id": "u9gnZIj-AzGv",
        "colab_type": "text"
      },
      "source": [
        "##Political Classification with sarcasm added"
      ]
    },
    {
      "cell_type": "code",
      "metadata": {
        "id": "ApvCeSpzue-v",
        "colab_type": "code",
        "outputId": "6136597e-5d59-4de0-d837-a2e882a26780",
        "colab": {
          "base_uri": "https://localhost:8080/",
          "height": 122
        }
      },
      "source": [
        "from google.colab import drive\n",
        "drive.mount('/content/drive')"
      ],
      "execution_count": 0,
      "outputs": [
        {
          "output_type": "stream",
          "text": [
            "Go to this URL in a browser: https://accounts.google.com/o/oauth2/auth?client_id=947318989803-6bn6qk8qdgf4n4g3pfee6491hc0brc4i.apps.googleusercontent.com&redirect_uri=urn%3aietf%3awg%3aoauth%3a2.0%3aoob&response_type=code&scope=email%20https%3a%2f%2fwww.googleapis.com%2fauth%2fdocs.test%20https%3a%2f%2fwww.googleapis.com%2fauth%2fdrive%20https%3a%2f%2fwww.googleapis.com%2fauth%2fdrive.photos.readonly%20https%3a%2f%2fwww.googleapis.com%2fauth%2fpeopleapi.readonly\n",
            "\n",
            "Enter your authorization code:\n",
            "··········\n",
            "Mounted at /content/drive\n"
          ],
          "name": "stdout"
        }
      ]
    },
    {
      "cell_type": "code",
      "metadata": {
        "id": "0j6-h3jOFKpy",
        "colab_type": "code",
        "colab": {}
      },
      "source": [
        "# -*- coding: utf-8 -*-\n",
        "\n",
        "\n",
        "import os\n",
        "import re\n",
        "import pickle\n",
        "\n",
        "import numpy as np\n",
        "import tensorflow as tf\n",
        "\n",
        "np.random.seed(1)\n",
        "tf.random.set_seed(2)\n",
        "\n",
        "import pandas as pd\n",
        "from tensorflow.python import keras\n",
        "#import seaborn as sns\n",
        "#import seaborn as sns1\n",
        "import matplotlib.pyplot as plt\n",
        "\n",
        "# from tqdm import tqdm\n",
        "#from tqdm import tqdm_notebook as tqdm\n",
        "from sklearn.model_selection import train_test_split\n",
        "from sklearn.preprocessing import LabelEncoder\n",
        "from sklearn.utils import class_weight\n",
        "from sklearn.metrics import f1_score, classification_report, log_loss\n",
        "from sklearn.metrics import confusion_matrix\n",
        "from sklearn.linear_model import SGDClassifier\n",
        "from sklearn.ensemble import RandomForestClassifier\n",
        "from keras.preprocessing.text import Tokenizer\n",
        "from keras.preprocessing.sequence import pad_sequences\n",
        "from keras.utils.np_utils import to_categorical\n",
        "\n",
        "from keras.models import Sequential\n",
        "from keras.layers import Embedding, LSTM, Dense, SpatialDropout1D, Bidirectional, Flatten\n",
        "from keras.layers import Dropout, Conv1D, GlobalMaxPool1D, GRU, GlobalAvgPool1D\n",
        "from keras.optimizers import Adam\n",
        "from keras.callbacks import ModelCheckpoint, EarlyStopping\n",
        "\n",
        "from sklearn.feature_extraction.text import CountVectorizer\n",
        "from sklearn.feature_extraction.text import TfidfTransformer\n",
        "from sklearn.naive_bayes import MultinomialNB\n",
        "from sklearn.pipeline import Pipeline\n",
        "\n",
        "\n",
        "    \n",
        "    \n",
        "\n",
        "MAX_SEQ_LEN = 45 #this is based on a quick analysis of the len of sequences train['text'].apply(lambda x : len(x.split(' '))).quantile(0.95)\n",
        "DEFAULT_BATCH_SIZE = 128\n",
        "\n",
        "data = pd.read_excel('/content/drive/My Drive/finalex.xlsx')\n",
        "# data = data[data['sentiment'] != 'Neutral']\n",
        "train, test = train_test_split(data, random_state = 42, test_size=0.2)\n",
        "#print(train.shape)\n",
        "#print(test.shape)\n",
        "\n",
        "def clean_text(tweet, mapping):\n",
        "    space_replace = [\"\\n\"]\n",
        "    for s in space_replace:\n",
        "        tweet = tweet.replace(s, \" \")\n",
        "    punctuations = [\"’\", \"‘\", \"´\", \"`\", \"\\'\", r\"\\'\"]\n",
        "    for s in punctuations:\n",
        "        tweet = tweet.replace(s, \"'\")\n",
        "    new_tweet = []\n",
        "    for t in tweet.split(\" \"):\n",
        "        if t in mapping:\n",
        "            new_tweet.append(mapping[t])\n",
        "        elif t.lower() in mapping:\n",
        "            new_tweet.append(mapping[t.lower()])\n",
        "        else:\n",
        "            new_tweet.append(t)\n",
        "    return ' '.join(new_tweet)\n",
        "\n",
        "Mapping_expansion= {\n",
        "\"ain't\": \"am not / are not\",\n",
        "\"aren't\": \"are not / am not\",\n",
        "\"can't\": \"cannot\",\n",
        "\"can't've\": \"cannot have\",\n",
        "\"'cause\": \"because\",\n",
        "\"could've\": \"could have\",\n",
        "\"couldn't\": \"could not\",\n",
        "\"couldn't've\": \"could not have\",\n",
        "\"didn't\": \"did not\",\n",
        "\"doesn't\": \"does not\",\n",
        "\"don't\": \"do not\",\n",
        "\"hadn't\": \"had not\",\n",
        "\"hadn't've\": \"had not have\",\n",
        "\"hasn't\": \"has not\",\n",
        "\"haven't\": \"have not\",\n",
        "\"he'd\": \"he had / he would\",\n",
        "\"he'd've\": \"he would have\",\n",
        "\"he'll\": \"he shall / he will\",\n",
        "\"he'll've\": \"he shall have / he will have\",\n",
        "\"he's\": \"he has / he is\",\n",
        "\"how'd\": \"how did\",\n",
        "\"how'd'y\": \"how do you\",\n",
        "\"how'll\": \"how will\",\n",
        "\"how's\": \"how has / how is\",\n",
        "\"i'd\": \"I had / I would\",\n",
        "\"i'd've\": \"I would have\",\n",
        "\"i'll\": \"I shall / I will\",\n",
        "\"i'll've\": \"I shall have / I will have\",\n",
        "\"i'm\": \"I am\",\n",
        "\"i've\": \"I have\",\n",
        "\"isn't\": \"is not\",\n",
        "\"it'd\": \"it had / it would\",\n",
        "\"it'd've\": \"it would have\",\n",
        "\"it'll\": \"it shall / it will\",\n",
        "\"it'll've\": \"it shall have / it will have\",\n",
        "\"it's\": \"it has / it is\",\n",
        "\"let's\": \"let us\",\n",
        "\"ma'am\": \"madam\",\n",
        "\"mayn't\": \"may not\",\n",
        "\"might've\": \"might have\",\n",
        "\"mightn't\": \"might not\",\n",
        "\"mightn't've\": \"might not have\",\n",
        "\"must've\": \"must have\",\n",
        "\"mustn't\": \"must not\",\n",
        "\"mustn't've\": \"must not have\",\n",
        "\"needn't\": \"need not\",\n",
        "\"needn't've\": \"need not have\",\n",
        "\"o'clock\": \"of the clock\",\n",
        "\"oughtn't\": \"ought not\",\n",
        "\"oughtn't've\": \"ought not have\",\n",
        "\"shan't\": \"shall not\",\n",
        "\"sha'n't\": \"shall not\",\n",
        "\"shan't've\": \"shall not have\",\n",
        "\"she'd\": \"she had / she would\",\n",
        "\"she'd've\": \"she would have\",\n",
        "\"she'll\": \"she shall / she will\",\n",
        "\"she'll've\": \"she shall have / she will have\",\n",
        "\"she's\": \"she has / she is\",\n",
        "\"should've\": \"should have\",\n",
        "\"shouldn't\": \"should not\",\n",
        "\"shouldn't've\": \"should not have\",\n",
        "\"so've\": \"so have\",\n",
        "\"so's\": \"so as / so is\",\n",
        "\"that'd\": \"that would / that had\",\n",
        "\"that'd've\": \"that would have\",\n",
        "\"that's\": \"that has / that is\",\n",
        "\"there'd\": \"there had / there would\",\n",
        "\"there'd've\": \"there would have\",\n",
        "\"there's\": \"there has / there is\",\n",
        "\"they'd\": \"they had / they would\",\n",
        "\"they'd've\": \"they would have\",\n",
        "\"they'll\": \"they shall / they will\",\n",
        "\"they'll've\": \"they shall have / they will have\",\n",
        "\"they're\": \"they are\",\n",
        "\"they've\": \"they have\",\n",
        "\"to've\": \"to have\",\n",
        "\"wasn't\": \"was not\",\n",
        "\"we'd\": \"we had / we would\",\n",
        "\"we'd've\": \"we would have\",\n",
        "\"we'll\": \"we will\",\n",
        "\"we'll've\": \"we will have\",\n",
        "\"we're\": \"we are\",\n",
        "\"we've\": \"we have\",\n",
        "\"weren't\": \"were not\",\n",
        "\"what'll\": \"what shall / what will\",\n",
        "\"what'll've\": \"what shall have / what will have\",\n",
        "\"what're\": \"what are\",\n",
        "\"what's\": \"what has / what is\",\n",
        "\"what've\": \"what have\",\n",
        "\"when's\": \"when has / when is\",\n",
        "\"when've\": \"when have\",\n",
        "\"where'd\": \"where did\",\n",
        "\"where's\": \"where has / where is\",\n",
        "\"where've\": \"where have\",\n",
        "\"who'll\": \"who shall / who will\",\n",
        "\"who'll've\": \"who shall have / who will have\",\n",
        "\"who's\": \"who has / who is\",\n",
        "\"who've\": \"who have\",\n",
        "\"why's\": \"why has / why is\",\n",
        "\"why've\": \"why have\",\n",
        "\"will've\": \"will have\",\n",
        "\"won't\": \"will not\",\n",
        "\"won't've\": \"will not have\",\n",
        "\"would've\": \"would have\",\n",
        "\"wouldn't\": \"would not\",\n",
        "\"wouldn't've\": \"would not have\",\n",
        "\"y'all\": \"you all\",\n",
        "\"y'all'd\": \"you all would\",\n",
        "\"y'all'd've\": \"you all would have\",\n",
        "\"y'all're\": \"you all are\",\n",
        "\"y'all've\": \"you all have\",\n",
        "\"you'd\": \"you had / you would\",\n",
        "\"you'd've\": \"you would have\",\n",
        "\"you'll\": \"you shall / you will\",\n",
        "\"you'll've\": \"you shall have / you will have\",\n",
        "\"you're\": \"you are\",\n",
        "\"you've\": \"you have\"\n",
        "}\n",
        "#mapping expansions used to convert shortforms to standard form\n",
        "tweet_train_vec= [clean_text(tweet, Mapping_expansion) for tweet in train['Tweet'].values]\n",
        "tweet_test_vec= [clean_text(tweet, Mapping_expansion) for tweet in test['Tweet'].values]\n",
        "\n",
        "\n",
        "# tokenize the sentences\n",
        "tokenizer = Tokenizer(lower=False)\n",
        "tokenizer.fit_on_texts(tweet_train_vec)\n",
        "tweet_train_vec = tokenizer.texts_to_sequences(tweet_train_vec)\n",
        "tweet_test_vec = tokenizer.texts_to_sequences(tweet_test_vec)\n",
        "\n",
        "tweet_train_vec = pad_sequences(tweet_train_vec, maxlen=MAX_SEQ_LEN)\n",
        "tweet_test_vec = pad_sequences(tweet_test_vec, maxlen=MAX_SEQ_LEN)\n",
        "\n",
        "#label encoder encodes test labels to integer form\n",
        "encoder = LabelEncoder()\n",
        "\n",
        "y_train = encoder.fit_transform(train['Party'].values)\n",
        "y_train = to_categorical(y_train) \n",
        "\n",
        "y_test = encoder.fit_transform(test['Party'].values)\n",
        "y_test = to_categorical(y_test)\n",
        "\n",
        "from collections import Counter\n",
        "ctr = Counter(train['Party'].values)\n",
        "#creation of the naive bayes model pipeline\n",
        "text_clf_nb = Pipeline([\n",
        "    ('vect', CountVectorizer(stop_words='english',ngram_range=(1,2))),\n",
        "    ('tfidf', TfidfTransformer()),\n",
        "    ('clf', MultinomialNB(alpha=1e-4)),\n",
        "])\n",
        "#fitting the model to the training data \n",
        "text_clf_nb.fit(tokenizer.sequences_to_texts_generator(tweet_train_vec), y_train.argmax(axis=1))\n",
        "predictions = text_clf_nb.predict(tokenizer.sequences_to_texts_generator(tweet_test_vec)) \n",
        "accuracy_naive_bayes=(predictions == y_test.argmax(axis = 1)).mean()\n",
        "f1_score_naive_bayes=f1_score(y_test.argmax(axis = 1), predictions, average='weighted')\n",
        "\n",
        "\n",
        "#creation of svm pipeline and fitting\n",
        "text_clf_svm = Pipeline([('vect', CountVectorizer(stop_words='english',ngram_range=(1,2))),('tfidf', TfidfTransformer(use_idf=False)),('clf-svm', SGDClassifier(loss='hinge', penalty='l2',alpha=1e-4, random_state=19))])\n",
        "text_clf_svm.fit(tokenizer.sequences_to_texts_generator(tweet_train_vec), y_train.argmax(axis=1))\n",
        "predicted_svm = text_clf_svm.predict(tokenizer.sequences_to_texts_generator(tweet_test_vec))\n",
        "accuracy_svm=(predicted_svm == y_test.argmax(axis = 1)).mean()\n",
        "f1_score_svm=f1_score(y_test.argmax(axis = 1), predictions, average='weighted')\n",
        "\n",
        "#creation of random forest pipeline and fitting\n",
        "text_clf_rf = Pipeline([\n",
        "    ('vect', CountVectorizer(stop_words='english',ngram_range=(1,2))),\n",
        "    ('tfidf', TfidfTransformer()),\n",
        "    ('clf', RandomForestClassifier(class_weight='balanced', n_estimators=500)), \n",
        "])\n",
        "text_clf_rf.fit(tokenizer.sequences_to_texts_generator(tweet_train_vec), y_train.argmax(axis=1))\n",
        "predictions = text_clf_rf.predict(tokenizer.sequences_to_texts_generator(tweet_test_vec)) \n",
        "accuracy_rf=(predictions == y_test.argmax(axis = 1)).mean()\n",
        "f1_score_rf=f1_score(y_test.argmax(axis = 1), predictions, average='weighted')"
      ],
      "execution_count": 0,
      "outputs": []
    },
    {
      "cell_type": "code",
      "metadata": {
        "id": "MsB5jvFHW4s4",
        "colab_type": "code",
        "colab": {}
      },
      "source": [
        "#Bi-LSTM creation\n",
        "model = Sequential()\n",
        "model.add(Embedding(input_dim = (len(tokenizer.word_counts) + 1), output_dim = 128, input_length = MAX_SEQ_LEN))\n",
        "model.add(SpatialDropout1D(0.6))#dropout added to avoid overfitting \n",
        "model.add(Bidirectional(LSTM(128, dropout=0.25, recurrent_dropout=0.25, return_sequences=True)))#bidirectional layer to read backward & forward \n",
        "model.add(Conv1D(128, 4))#Borrowed from Image classification, assumes related info is locally grouped \n",
        "model.add(GlobalMaxPool1D())\n",
        "model.add(Dense(64, activation='relu'))#Feed forward network used to interpret LSTM Output \n",
        "model.add(Dense(2, activation='softmax'))#Output of the model, 2 implies 2 output categories \n",
        "\n",
        "model.compile(loss='categorical_crossentropy', optimizer='adam', metrics=['accuracy'])"
      ],
      "execution_count": 0,
      "outputs": []
    },
    {
      "cell_type": "code",
      "metadata": {
        "id": "sr_DxSbHZQx8",
        "colab_type": "code",
        "outputId": "331ed9f9-4bf7-4d86-dc29-7bc4ffccfa5c",
        "colab": {
          "base_uri": "https://localhost:8080/",
          "height": 2125
        }
      },
      "source": [
        "#running the model for 30 epochs, beyond which it was overfitting\n",
        "y_train_int = np.argmax(y_train,axis=1)\n",
        "cws = class_weight.compute_class_weight('balanced', np.unique(y_train_int), y_train_int)\n",
        "model.fit(\n",
        "        tweet_train_vec, \n",
        "        y_train, \n",
        "        #this is bad practice using test data for validation, in a real case would use a seperate validation set\n",
        "        validation_data=(tweet_test_vec, y_test),  \n",
        "        epochs=30, \n",
        "        batch_size=128,\n",
        "        class_weight=cws,\n",
        "         #saves the most accurate model, usually you would save the one with the lowest loss\n",
        "        callbacks= [ModelCheckpoint('lstm.h5', monitor='val_accuracy', verbose=1, save_best_only=True)],\n",
        "        verbose=1\n",
        "    ) "
      ],
      "execution_count": 0,
      "outputs": [
        {
          "output_type": "stream",
          "text": [
            "/usr/local/lib/python3.6/dist-packages/tensorflow/python/framework/indexed_slices.py:434: UserWarning: Converting sparse IndexedSlices to a dense Tensor of unknown shape. This may consume a large amount of memory.\n",
            "  \"Converting sparse IndexedSlices to a dense Tensor of unknown shape. \"\n"
          ],
          "name": "stderr"
        },
        {
          "output_type": "stream",
          "text": [
            "Train on 2144 samples, validate on 536 samples\n",
            "Epoch 1/30\n",
            "2144/2144 [==============================] - 7s 3ms/step - loss: 0.6698 - accuracy: 0.6096 - val_loss: 0.6510 - val_accuracy: 0.6418\n",
            "\n",
            "Epoch 00001: val_accuracy improved from -inf to 0.64179, saving model to lstm.h5\n",
            "Epoch 2/30\n",
            "2144/2144 [==============================] - 6s 3ms/step - loss: 0.6578 - accuracy: 0.6231 - val_loss: 0.6386 - val_accuracy: 0.6418\n",
            "\n",
            "Epoch 00002: val_accuracy did not improve from 0.64179\n",
            "Epoch 3/30\n",
            "2144/2144 [==============================] - 6s 3ms/step - loss: 0.5749 - accuracy: 0.7057 - val_loss: 0.4754 - val_accuracy: 0.7948\n",
            "\n",
            "Epoch 00003: val_accuracy improved from 0.64179 to 0.79478, saving model to lstm.h5\n",
            "Epoch 4/30\n",
            "2144/2144 [==============================] - 6s 3ms/step - loss: 0.2991 - accuracy: 0.8815 - val_loss: 0.3967 - val_accuracy: 0.8582\n",
            "\n",
            "Epoch 00004: val_accuracy improved from 0.79478 to 0.85821, saving model to lstm.h5\n",
            "Epoch 5/30\n",
            "2144/2144 [==============================] - 6s 3ms/step - loss: 0.1044 - accuracy: 0.9571 - val_loss: 0.4659 - val_accuracy: 0.8489\n",
            "\n",
            "Epoch 00005: val_accuracy did not improve from 0.85821\n",
            "Epoch 6/30\n",
            "2144/2144 [==============================] - 5s 2ms/step - loss: 0.0520 - accuracy: 0.9823 - val_loss: 0.5010 - val_accuracy: 0.8601\n",
            "\n",
            "Epoch 00006: val_accuracy improved from 0.85821 to 0.86007, saving model to lstm.h5\n",
            "Epoch 7/30\n",
            "2144/2144 [==============================] - 6s 3ms/step - loss: 0.0209 - accuracy: 0.9930 - val_loss: 0.6381 - val_accuracy: 0.8582\n",
            "\n",
            "Epoch 00007: val_accuracy did not improve from 0.86007\n",
            "Epoch 8/30\n",
            "2144/2144 [==============================] - 6s 3ms/step - loss: 0.0201 - accuracy: 0.9939 - val_loss: 0.6684 - val_accuracy: 0.8731\n",
            "\n",
            "Epoch 00008: val_accuracy improved from 0.86007 to 0.87313, saving model to lstm.h5\n",
            "Epoch 9/30\n",
            "2144/2144 [==============================] - 5s 3ms/step - loss: 0.0106 - accuracy: 0.9967 - val_loss: 0.6214 - val_accuracy: 0.8713\n",
            "\n",
            "Epoch 00009: val_accuracy did not improve from 0.87313\n",
            "Epoch 10/30\n",
            "2144/2144 [==============================] - 5s 2ms/step - loss: 0.0100 - accuracy: 0.9963 - val_loss: 0.6793 - val_accuracy: 0.8713\n",
            "\n",
            "Epoch 00010: val_accuracy did not improve from 0.87313\n",
            "Epoch 11/30\n",
            "2144/2144 [==============================] - 5s 2ms/step - loss: 0.0043 - accuracy: 0.9991 - val_loss: 0.8232 - val_accuracy: 0.8750\n",
            "\n",
            "Epoch 00011: val_accuracy improved from 0.87313 to 0.87500, saving model to lstm.h5\n",
            "Epoch 12/30\n",
            "2144/2144 [==============================] - 5s 3ms/step - loss: 0.0052 - accuracy: 0.9991 - val_loss: 0.7726 - val_accuracy: 0.8731\n",
            "\n",
            "Epoch 00012: val_accuracy did not improve from 0.87500\n",
            "Epoch 13/30\n",
            "2144/2144 [==============================] - 5s 3ms/step - loss: 0.0029 - accuracy: 0.9995 - val_loss: 0.8173 - val_accuracy: 0.8638\n",
            "\n",
            "Epoch 00013: val_accuracy did not improve from 0.87500\n",
            "Epoch 14/30\n",
            "2144/2144 [==============================] - 5s 2ms/step - loss: 0.0032 - accuracy: 0.9986 - val_loss: 0.8385 - val_accuracy: 0.8582\n",
            "\n",
            "Epoch 00014: val_accuracy did not improve from 0.87500\n",
            "Epoch 15/30\n",
            "2144/2144 [==============================] - 5s 3ms/step - loss: 0.0031 - accuracy: 0.9995 - val_loss: 0.8261 - val_accuracy: 0.8694\n",
            "\n",
            "Epoch 00015: val_accuracy did not improve from 0.87500\n",
            "Epoch 16/30\n",
            "2144/2144 [==============================] - 6s 3ms/step - loss: 0.0048 - accuracy: 0.9991 - val_loss: 0.8243 - val_accuracy: 0.8638\n",
            "\n",
            "Epoch 00016: val_accuracy did not improve from 0.87500\n",
            "Epoch 17/30\n",
            "2144/2144 [==============================] - 6s 3ms/step - loss: 0.0032 - accuracy: 0.9991 - val_loss: 0.7943 - val_accuracy: 0.8638\n",
            "\n",
            "Epoch 00017: val_accuracy did not improve from 0.87500\n",
            "Epoch 18/30\n",
            "2144/2144 [==============================] - 5s 2ms/step - loss: 0.0030 - accuracy: 0.9986 - val_loss: 0.8289 - val_accuracy: 0.8657\n",
            "\n",
            "Epoch 00018: val_accuracy did not improve from 0.87500\n",
            "Epoch 19/30\n",
            "2144/2144 [==============================] - 6s 3ms/step - loss: 0.0018 - accuracy: 0.9995 - val_loss: 0.8805 - val_accuracy: 0.8619\n",
            "\n",
            "Epoch 00019: val_accuracy did not improve from 0.87500\n",
            "Epoch 20/30\n",
            "2144/2144 [==============================] - 6s 3ms/step - loss: 7.3246e-04 - accuracy: 1.0000 - val_loss: 0.9522 - val_accuracy: 0.8657\n",
            "\n",
            "Epoch 00020: val_accuracy did not improve from 0.87500\n",
            "Epoch 21/30\n",
            "2144/2144 [==============================] - 6s 3ms/step - loss: 0.0010 - accuracy: 0.9995 - val_loss: 0.9677 - val_accuracy: 0.8713\n",
            "\n",
            "Epoch 00021: val_accuracy did not improve from 0.87500\n",
            "Epoch 22/30\n",
            "2144/2144 [==============================] - 6s 3ms/step - loss: 0.0014 - accuracy: 0.9995 - val_loss: 0.9878 - val_accuracy: 0.8619\n",
            "\n",
            "Epoch 00022: val_accuracy did not improve from 0.87500\n",
            "Epoch 23/30\n",
            "2144/2144 [==============================] - 5s 3ms/step - loss: 0.0043 - accuracy: 0.9981 - val_loss: 0.8231 - val_accuracy: 0.8713\n",
            "\n",
            "Epoch 00023: val_accuracy did not improve from 0.87500\n",
            "Epoch 24/30\n",
            "2144/2144 [==============================] - 6s 3ms/step - loss: 0.0044 - accuracy: 0.9981 - val_loss: 0.7399 - val_accuracy: 0.8675\n",
            "\n",
            "Epoch 00024: val_accuracy did not improve from 0.87500\n",
            "Epoch 25/30\n",
            "2144/2144 [==============================] - 5s 3ms/step - loss: 0.0030 - accuracy: 0.9995 - val_loss: 0.7851 - val_accuracy: 0.8657\n",
            "\n",
            "Epoch 00025: val_accuracy did not improve from 0.87500\n",
            "Epoch 26/30\n",
            "2144/2144 [==============================] - 5s 2ms/step - loss: 6.4738e-04 - accuracy: 1.0000 - val_loss: 0.8674 - val_accuracy: 0.8619\n",
            "\n",
            "Epoch 00026: val_accuracy did not improve from 0.87500\n",
            "Epoch 27/30\n",
            "2144/2144 [==============================] - 5s 2ms/step - loss: 0.0037 - accuracy: 0.9991 - val_loss: 0.8977 - val_accuracy: 0.8601\n",
            "\n",
            "Epoch 00027: val_accuracy did not improve from 0.87500\n",
            "Epoch 28/30\n",
            "2144/2144 [==============================] - 6s 3ms/step - loss: 0.0019 - accuracy: 0.9995 - val_loss: 0.8338 - val_accuracy: 0.8713\n",
            "\n",
            "Epoch 00028: val_accuracy did not improve from 0.87500\n",
            "Epoch 29/30\n",
            "2144/2144 [==============================] - 6s 3ms/step - loss: 4.4260e-04 - accuracy: 1.0000 - val_loss: 0.9159 - val_accuracy: 0.8657\n",
            "\n",
            "Epoch 00029: val_accuracy did not improve from 0.87500\n",
            "Epoch 30/30\n",
            "2144/2144 [==============================] - 5s 2ms/step - loss: 0.0015 - accuracy: 0.9995 - val_loss: 1.0890 - val_accuracy: 0.8507\n",
            "\n",
            "Epoch 00030: val_accuracy did not improve from 0.87500\n"
          ],
          "name": "stdout"
        },
        {
          "output_type": "execute_result",
          "data": {
            "text/plain": [
              "<keras.callbacks.callbacks.History at 0x7fe429cd0c88>"
            ]
          },
          "metadata": {
            "tags": []
          },
          "execution_count": 137
        }
      ]
    },
    {
      "cell_type": "code",
      "metadata": {
        "id": "3FUj8fv3cKRh",
        "colab_type": "code",
        "colab": {}
      },
      "source": [
        "#loading the best model which was saved\n",
        "lstm_model = tf.python.keras.models.load_model('lstm.h5')"
      ],
      "execution_count": 0,
      "outputs": []
    },
    {
      "cell_type": "code",
      "metadata": {
        "id": "Eyid02iWGBzl",
        "colab_type": "code",
        "colab": {}
      },
      "source": [
        "pickle.dump(text_clf_svm, open('svm.save','wb'))\n",
        "pickle.dump(text_clf_nb, open('nb.save','wb'))\n",
        "pickle.dump(text_clf_rf, open('rf.save','wb'))"
      ],
      "execution_count": 0,
      "outputs": []
    },
    {
      "cell_type": "code",
      "metadata": {
        "colab_type": "code",
        "id": "iltwl_e3JUR0",
        "outputId": "616efbc6-5b17-416d-df4a-801db0f8133b",
        "colab": {
          "base_uri": "https://localhost:8080/",
          "height": 34
        }
      },
      "source": [
        "loaded1 = pickle.load(open('svm.save','rb'))\n",
        "pred1 = loaded1.predict(tokenizer.sequences_to_texts(tweet_test_vec))\n",
        "loaded2 = pickle.load(open('nb.save','rb'))\n",
        "pred2 = loaded2.predict(tokenizer.sequences_to_texts(tweet_test_vec))\n",
        "loaded3 = pickle.load(open('rf.save','rb'))\n",
        "pred3 = loaded3.predict(tokenizer.sequences_to_texts(tweet_test_vec))\n",
        "loaded4 = lstm_model\n",
        "pred4 = loaded4.predict(tweet_test_vec,verbose=1)\n",
        "acc_svm = (np.mean(pred1 == y_test.argmax(axis = 1)))\n",
        "acc_nb = (np.mean(pred2 == y_test.argmax(axis = 1)))\n",
        "acc_rf = (np.mean(pred3 == y_test.argmax(axis = 1)))\n",
        "acc_lstm = (pred4.argmax(axis = 1) == y_test.argmax(axis = 1)).mean()\n",
        "#print(encoder.inverse_transform(pred))\n",
        "summation = acc_svm + acc_nb + acc_rf"
      ],
      "execution_count": 0,
      "outputs": [
        {
          "output_type": "stream",
          "text": [
            "17/17 [==============================] - 1s 38ms/step\n"
          ],
          "name": "stdout"
        }
      ]
    },
    {
      "cell_type": "code",
      "metadata": {
        "id": "EQwvL8sqf4Sy",
        "colab_type": "code",
        "colab": {}
      },
      "source": [
        "#for creation of ensemble model, weight of each classifier is calculated\n",
        "#based on the accuracy it gives.\n",
        "\n",
        "model_pred_ensm = [pred1,pred2,pred3]\n",
        "weight_ensm = [acc_svm/summation,acc_nb/summation,acc_rf/summation]"
      ],
      "execution_count": 0,
      "outputs": []
    },
    {
      "cell_type": "code",
      "metadata": {
        "id": "W8IL0zWdjJUn",
        "colab_type": "code",
        "outputId": "492d8783-bcb3-4bfd-bf07-4670e576a2d2",
        "colab": {
          "base_uri": "https://localhost:8080/",
          "height": 34
        }
      },
      "source": [
        "print('List of weights:',weight_ensm)"
      ],
      "execution_count": 0,
      "outputs": [
        {
          "output_type": "stream",
          "text": [
            "List of weights: [0.3393371757925072, 0.335014409221902, 0.3256484149855908]\n"
          ],
          "name": "stdout"
        }
      ]
    },
    {
      "cell_type": "code",
      "metadata": {
        "id": "d3eivaf8eNAA",
        "colab_type": "code",
        "colab": {}
      },
      "source": [
        "#with calculated weights, score of each class is calculated and class with \n",
        "#higher score is selected as the prediction\n",
        "probability_dem = []\n",
        "probability_rep = []\n",
        "for counter in range(len(pred1)):\n",
        "    dem_count = 0\n",
        "    rep_count = 0\n",
        "    for classifier in model_pred_ensm:\n",
        "        if classifier[counter] == 0:\n",
        "            dem_count += 1  \n",
        "        else:\n",
        "            rep_count += 1\n",
        "\n",
        "    probability_dem.append(dem_count/(dem_count + rep_count))\n",
        "    probability_rep.append(rep_count/(dem_count + rep_count))\n",
        "\n",
        "dem_score = [0]*len(pred1)\n",
        "rep_score = [0]*len(pred1)\n",
        "\n",
        "for counter2 in range(len(pred1)):\n",
        "\n",
        "    for classifier_count in range(3):\n",
        "        if model_pred_ensm[classifier_count][counter2] == 0:\n",
        "            dem_score[counter2] += weight_ensm[classifier_count] * probability_dem[counter2]\n",
        "        else:\n",
        "            rep_score[counter2] += weight_ensm[classifier_count] * probability_rep[counter2]\n"
      ],
      "execution_count": 0,
      "outputs": []
    },
    {
      "cell_type": "code",
      "metadata": {
        "id": "tJKuzXh_ugwd",
        "colab_type": "code",
        "colab": {}
      },
      "source": [
        "results = []\n",
        "for element in range(len(pred1)):\n",
        "    if dem_score[element] > rep_score[element]:\n",
        "        results.append(0)\n",
        "    else:\n",
        "        results.append(1)\n",
        "results = np.array(results)"
      ],
      "execution_count": 0,
      "outputs": []
    },
    {
      "cell_type": "code",
      "metadata": {
        "id": "PYT6VDiLveOf",
        "colab_type": "code",
        "outputId": "602ea9db-0916-445e-db30-dd267272c306",
        "colab": {
          "base_uri": "https://localhost:8080/",
          "height": 102
        }
      },
      "source": [
        "#quantifying the results\n",
        "accuracy_ensemble = (np.mean(results == y_test.argmax(axis = 1)))\n",
        "print('Accuracy of the Ensemble model:', accuracy_ensemble)\n",
        "print(\"Naive Bayes Accuracy:\",accuracy_naive_bayes)\n",
        "print(\"SVM Accuracy:\",accuracy_svm)\n",
        "print(\"Random Forest Accuracy:\",accuracy_rf)\n",
        "print(\"LSTM Accuracy:\",acc_lstm)"
      ],
      "execution_count": 0,
      "outputs": [
        {
          "output_type": "stream",
          "text": [
            "Accuracy of the Ensemble model: 0.8861940298507462\n",
            "Naive Bayes Accuracy: 0.8675373134328358\n",
            "SVM Accuracy: 0.878731343283582\n",
            "Random Forest Accuracy: 0.8432835820895522\n",
            "LSTM Accuracy: 0.875\n"
          ],
          "name": "stdout"
        }
      ]
    },
    {
      "cell_type": "code",
      "metadata": {
        "id": "4HmfUEaXJ0UI",
        "colab_type": "code",
        "colab": {}
      },
      "source": [
        "#getting the political data ready for sarcasm detection\n",
        "tokenizer = Tokenizer(num_words=max_fatures, split=' ')\n",
        "tokenizer.fit_on_texts(test['Tweet'].values)\n",
        "X1 = tokenizer.texts_to_sequences(test['Tweet'].values)\n",
        "X1 = pad_sequences(X1, maxlen = 120)"
      ],
      "execution_count": 0,
      "outputs": []
    },
    {
      "cell_type": "code",
      "metadata": {
        "id": "EzcLkrDjKg9f",
        "colab_type": "code",
        "outputId": "d9db4969-a8dc-4bc7-a82b-172dcd06c67b",
        "colab": {
          "base_uri": "https://localhost:8080/",
          "height": 153
        }
      },
      "source": [
        "#predicting the sarcasm for political data using trained model\n",
        "answer = sarcasm_model.predict(X1,verbose = 1, batch_size=batch_size)\n",
        "print(answer)"
      ],
      "execution_count": 0,
      "outputs": [
        {
          "output_type": "stream",
          "text": [
            "9/9 [==============================] - 0s 4ms/step\n",
            "[[0.9910507  0.00926598]\n",
            " [0.9830547  0.017421  ]\n",
            " [0.84955937 0.13992351]\n",
            " ...\n",
            " [0.20843787 0.79754174]\n",
            " [0.00771692 0.9926472 ]\n",
            " [0.7450632  0.24621116]]\n"
          ],
          "name": "stdout"
        }
      ]
    },
    {
      "cell_type": "code",
      "metadata": {
        "id": "14qnZCe3KqlV",
        "colab_type": "code",
        "outputId": "d98b3fa3-111b-49e7-c7f1-2c0cbba24c3a",
        "colab": {
          "base_uri": "https://localhost:8080/",
          "height": 54
        }
      },
      "source": [
        "#index 0 ~ not sarcastic, index 1 ~ sarcastic (1-hot encoded)\n",
        "#labelling values with high probability of sarcasm as sarcastic\n",
        "answer = answer.tolist()\n",
        "for item in answer:\n",
        "    if item[1] > 0.9995:\n",
        "        item[0] = 0\n",
        "        item[1] = 1\n",
        "    else:\n",
        "        item[0] = 1\n",
        "        item[1] = 0\n",
        "\n",
        "print(answer)"
      ],
      "execution_count": 0,
      "outputs": [
        {
          "output_type": "stream",
          "text": [
            "[[1, 0], [1, 0], [1, 0], [1, 0], [1, 0], [1, 0], [1, 0], [1, 0], [1, 0], [1, 0], [1, 0], [1, 0], [1, 0], [1, 0], [1, 0], [1, 0], [1, 0], [1, 0], [1, 0], [1, 0], [1, 0], [1, 0], [1, 0], [1, 0], [1, 0], [1, 0], [1, 0], [1, 0], [1, 0], [1, 0], [1, 0], [1, 0], [1, 0], [1, 0], [1, 0], [1, 0], [1, 0], [1, 0], [1, 0], [1, 0], [1, 0], [1, 0], [1, 0], [1, 0], [1, 0], [1, 0], [1, 0], [1, 0], [1, 0], [1, 0], [1, 0], [1, 0], [1, 0], [1, 0], [1, 0], [1, 0], [1, 0], [1, 0], [1, 0], [1, 0], [1, 0], [1, 0], [1, 0], [1, 0], [1, 0], [1, 0], [1, 0], [1, 0], [1, 0], [1, 0], [1, 0], [1, 0], [1, 0], [1, 0], [1, 0], [1, 0], [1, 0], [1, 0], [1, 0], [1, 0], [1, 0], [1, 0], [1, 0], [1, 0], [1, 0], [1, 0], [1, 0], [1, 0], [1, 0], [1, 0], [1, 0], [1, 0], [1, 0], [1, 0], [1, 0], [1, 0], [1, 0], [1, 0], [1, 0], [1, 0], [1, 0], [1, 0], [1, 0], [1, 0], [1, 0], [1, 0], [1, 0], [1, 0], [1, 0], [1, 0], [1, 0], [1, 0], [1, 0], [1, 0], [0, 1], [1, 0], [1, 0], [1, 0], [1, 0], [1, 0], [1, 0], [1, 0], [1, 0], [1, 0], [1, 0], [1, 0], [1, 0], [1, 0], [1, 0], [1, 0], [1, 0], [1, 0], [1, 0], [1, 0], [1, 0], [1, 0], [1, 0], [1, 0], [1, 0], [1, 0], [1, 0], [1, 0], [1, 0], [1, 0], [1, 0], [1, 0], [1, 0], [1, 0], [1, 0], [1, 0], [1, 0], [1, 0], [1, 0], [1, 0], [1, 0], [1, 0], [0, 1], [1, 0], [1, 0], [1, 0], [1, 0], [1, 0], [1, 0], [1, 0], [1, 0], [1, 0], [1, 0], [1, 0], [1, 0], [1, 0], [1, 0], [1, 0], [1, 0], [1, 0], [1, 0], [1, 0], [1, 0], [1, 0], [1, 0], [1, 0], [1, 0], [1, 0], [1, 0], [1, 0], [1, 0], [1, 0], [1, 0], [1, 0], [1, 0], [1, 0], [1, 0], [1, 0], [1, 0], [1, 0], [1, 0], [1, 0], [1, 0], [1, 0], [1, 0], [1, 0], [1, 0], [1, 0], [1, 0], [1, 0], [1, 0], [1, 0], [1, 0], [1, 0], [1, 0], [1, 0], [1, 0], [1, 0], [1, 0], [1, 0], [1, 0], [1, 0], [1, 0], [1, 0], [1, 0], [1, 0], [1, 0], [1, 0], [1, 0], [1, 0], [1, 0], [1, 0], [1, 0], [1, 0], [1, 0], [1, 0], [1, 0], [1, 0], [1, 0], [1, 0], [1, 0], [1, 0], [1, 0], [1, 0], [1, 0], [1, 0], [1, 0], [1, 0], [1, 0], [1, 0], [1, 0], [1, 0], [1, 0], [1, 0], [1, 0], [1, 0], [1, 0], [1, 0], [1, 0], [1, 0], [1, 0], [1, 0], [1, 0], [1, 0], [1, 0], [1, 0], [1, 0], [1, 0], [1, 0], [1, 0], [1, 0], [1, 0], [1, 0], [1, 0], [1, 0], [1, 0], [1, 0], [1, 0], [1, 0], [1, 0], [1, 0], [1, 0], [1, 0], [1, 0], [1, 0], [1, 0], [1, 0], [1, 0], [1, 0], [1, 0], [1, 0], [1, 0], [1, 0], [1, 0], [1, 0], [1, 0], [1, 0], [1, 0], [1, 0], [1, 0], [1, 0], [1, 0], [1, 0], [1, 0], [1, 0], [1, 0], [1, 0], [1, 0], [1, 0], [1, 0], [1, 0], [1, 0], [1, 0], [1, 0], [1, 0], [1, 0], [1, 0], [1, 0], [1, 0], [1, 0], [1, 0], [1, 0], [1, 0], [1, 0], [1, 0], [1, 0], [1, 0], [1, 0], [1, 0], [1, 0], [1, 0], [1, 0], [1, 0], [1, 0], [1, 0], [1, 0], [1, 0], [1, 0], [1, 0], [1, 0], [1, 0], [1, 0], [1, 0], [1, 0], [1, 0], [1, 0], [1, 0], [1, 0], [1, 0], [1, 0], [1, 0], [1, 0], [1, 0], [1, 0], [1, 0], [1, 0], [1, 0], [1, 0], [1, 0], [1, 0], [1, 0], [1, 0], [1, 0], [1, 0], [1, 0], [1, 0], [1, 0], [1, 0], [1, 0], [1, 0], [1, 0], [1, 0], [1, 0], [1, 0], [1, 0], [1, 0], [1, 0], [1, 0], [1, 0], [1, 0], [1, 0], [1, 0], [1, 0], [1, 0], [1, 0], [1, 0], [1, 0], [1, 0], [1, 0], [1, 0], [1, 0], [1, 0], [1, 0], [1, 0], [1, 0], [1, 0], [1, 0], [1, 0], [1, 0], [1, 0], [1, 0], [1, 0], [1, 0], [1, 0], [1, 0], [1, 0], [1, 0], [1, 0], [1, 0], [1, 0], [1, 0], [1, 0], [1, 0], [1, 0], [1, 0], [1, 0], [1, 0], [1, 0], [1, 0], [1, 0], [1, 0], [1, 0], [1, 0], [1, 0], [1, 0], [1, 0], [1, 0], [1, 0], [1, 0], [1, 0], [1, 0], [1, 0], [1, 0], [1, 0], [1, 0], [1, 0], [1, 0], [1, 0], [1, 0], [1, 0], [1, 0], [1, 0], [1, 0], [1, 0], [1, 0], [1, 0], [1, 0], [1, 0], [1, 0], [1, 0], [1, 0], [1, 0], [1, 0], [1, 0], [1, 0], [1, 0], [1, 0], [1, 0], [1, 0], [1, 0], [1, 0], [1, 0], [1, 0], [1, 0], [1, 0], [1, 0], [1, 0], [1, 0], [1, 0], [1, 0], [0, 1], [1, 0], [1, 0], [1, 0], [1, 0], [1, 0], [1, 0], [1, 0], [1, 0], [1, 0], [1, 0], [1, 0], [1, 0], [1, 0], [1, 0], [1, 0], [1, 0], [1, 0], [1, 0], [1, 0], [1, 0], [1, 0], [1, 0], [1, 0], [1, 0], [1, 0], [1, 0], [1, 0], [1, 0], [1, 0], [1, 0], [1, 0], [1, 0], [1, 0], [1, 0], [1, 0], [1, 0], [1, 0], [1, 0], [1, 0], [1, 0], [1, 0], [1, 0], [1, 0], [1, 0], [1, 0], [1, 0], [1, 0], [1, 0], [1, 0], [1, 0], [1, 0], [1, 0], [1, 0], [1, 0], [1, 0], [1, 0], [1, 0], [1, 0], [1, 0], [1, 0], [1, 0], [1, 0], [1, 0], [1, 0], [1, 0], [1, 0], [1, 0], [1, 0], [1, 0], [1, 0], [1, 0]]\n"
          ],
          "name": "stdout"
        }
      ]
    },
    {
      "cell_type": "code",
      "metadata": {
        "id": "Sd6BNxDdKvwN",
        "colab_type": "code",
        "outputId": "97142dae-54af-45c9-9107-bec2ceaae0f8",
        "colab": {
          "base_uri": "https://localhost:8080/",
          "height": 54
        }
      },
      "source": [
        "#creation of a list with values 'Not' and 'Sarcastic'\n",
        "#to later modify the sarcastic tweets\n",
        "sarclist = []\n",
        "for value in answer:\n",
        "    if value[0] == 1:\n",
        "        sarclist.append('Not')\n",
        "    else:\n",
        "        sarclist.append('Sarcastic')\n",
        "print(sarclist)"
      ],
      "execution_count": 0,
      "outputs": [
        {
          "output_type": "stream",
          "text": [
            "['Not', 'Not', 'Not', 'Not', 'Not', 'Not', 'Not', 'Not', 'Not', 'Not', 'Not', 'Not', 'Not', 'Not', 'Not', 'Not', 'Not', 'Not', 'Not', 'Not', 'Not', 'Not', 'Not', 'Not', 'Not', 'Not', 'Not', 'Not', 'Not', 'Not', 'Not', 'Not', 'Not', 'Not', 'Not', 'Not', 'Not', 'Not', 'Not', 'Not', 'Not', 'Not', 'Not', 'Not', 'Not', 'Not', 'Not', 'Not', 'Not', 'Not', 'Not', 'Not', 'Not', 'Not', 'Not', 'Not', 'Not', 'Not', 'Not', 'Not', 'Not', 'Not', 'Not', 'Not', 'Not', 'Not', 'Not', 'Not', 'Not', 'Not', 'Not', 'Not', 'Not', 'Not', 'Not', 'Not', 'Not', 'Not', 'Not', 'Not', 'Not', 'Not', 'Not', 'Not', 'Not', 'Not', 'Not', 'Not', 'Not', 'Not', 'Not', 'Not', 'Not', 'Not', 'Not', 'Not', 'Not', 'Not', 'Not', 'Not', 'Not', 'Not', 'Not', 'Not', 'Not', 'Not', 'Not', 'Not', 'Not', 'Not', 'Not', 'Not', 'Not', 'Not', 'Sarcastic', 'Not', 'Not', 'Not', 'Not', 'Not', 'Not', 'Not', 'Not', 'Not', 'Not', 'Not', 'Not', 'Not', 'Not', 'Not', 'Not', 'Not', 'Not', 'Not', 'Not', 'Not', 'Not', 'Not', 'Not', 'Not', 'Not', 'Not', 'Not', 'Not', 'Not', 'Not', 'Not', 'Not', 'Not', 'Not', 'Not', 'Not', 'Not', 'Not', 'Not', 'Not', 'Sarcastic', 'Not', 'Not', 'Not', 'Not', 'Not', 'Not', 'Not', 'Not', 'Not', 'Not', 'Not', 'Not', 'Not', 'Not', 'Not', 'Not', 'Not', 'Not', 'Not', 'Not', 'Not', 'Not', 'Not', 'Not', 'Not', 'Not', 'Not', 'Not', 'Not', 'Not', 'Not', 'Not', 'Not', 'Not', 'Not', 'Not', 'Not', 'Not', 'Not', 'Not', 'Not', 'Not', 'Not', 'Not', 'Not', 'Not', 'Not', 'Not', 'Not', 'Not', 'Not', 'Not', 'Not', 'Not', 'Not', 'Not', 'Not', 'Not', 'Not', 'Not', 'Not', 'Not', 'Not', 'Not', 'Not', 'Not', 'Not', 'Not', 'Not', 'Not', 'Not', 'Not', 'Not', 'Not', 'Not', 'Not', 'Not', 'Not', 'Not', 'Not', 'Not', 'Not', 'Not', 'Not', 'Not', 'Not', 'Not', 'Not', 'Not', 'Not', 'Not', 'Not', 'Not', 'Not', 'Not', 'Not', 'Not', 'Not', 'Not', 'Not', 'Not', 'Not', 'Not', 'Not', 'Not', 'Not', 'Not', 'Not', 'Not', 'Not', 'Not', 'Not', 'Not', 'Not', 'Not', 'Not', 'Not', 'Not', 'Not', 'Not', 'Not', 'Not', 'Not', 'Not', 'Not', 'Not', 'Not', 'Not', 'Not', 'Not', 'Not', 'Not', 'Not', 'Not', 'Not', 'Not', 'Not', 'Not', 'Not', 'Not', 'Not', 'Not', 'Not', 'Not', 'Not', 'Not', 'Not', 'Not', 'Not', 'Not', 'Not', 'Not', 'Not', 'Not', 'Not', 'Not', 'Not', 'Not', 'Not', 'Not', 'Not', 'Not', 'Not', 'Not', 'Not', 'Not', 'Not', 'Not', 'Not', 'Not', 'Not', 'Not', 'Not', 'Not', 'Not', 'Not', 'Not', 'Not', 'Not', 'Not', 'Not', 'Not', 'Not', 'Not', 'Not', 'Not', 'Not', 'Not', 'Not', 'Not', 'Not', 'Not', 'Not', 'Not', 'Not', 'Not', 'Not', 'Not', 'Not', 'Not', 'Not', 'Not', 'Not', 'Not', 'Not', 'Not', 'Not', 'Not', 'Not', 'Not', 'Not', 'Not', 'Not', 'Not', 'Not', 'Not', 'Not', 'Not', 'Not', 'Not', 'Not', 'Not', 'Not', 'Not', 'Not', 'Not', 'Not', 'Not', 'Not', 'Not', 'Not', 'Not', 'Not', 'Not', 'Not', 'Not', 'Not', 'Not', 'Not', 'Not', 'Not', 'Not', 'Not', 'Not', 'Not', 'Not', 'Not', 'Not', 'Not', 'Not', 'Not', 'Not', 'Not', 'Not', 'Not', 'Not', 'Not', 'Not', 'Not', 'Not', 'Not', 'Not', 'Not', 'Not', 'Not', 'Not', 'Not', 'Not', 'Not', 'Not', 'Not', 'Not', 'Not', 'Not', 'Not', 'Not', 'Not', 'Not', 'Not', 'Not', 'Not', 'Not', 'Not', 'Not', 'Not', 'Not', 'Not', 'Not', 'Not', 'Not', 'Not', 'Not', 'Not', 'Not', 'Not', 'Not', 'Not', 'Not', 'Not', 'Not', 'Not', 'Not', 'Not', 'Not', 'Not', 'Not', 'Not', 'Sarcastic', 'Not', 'Not', 'Not', 'Not', 'Not', 'Not', 'Not', 'Not', 'Not', 'Not', 'Not', 'Not', 'Not', 'Not', 'Not', 'Not', 'Not', 'Not', 'Not', 'Not', 'Not', 'Not', 'Not', 'Not', 'Not', 'Not', 'Not', 'Not', 'Not', 'Not', 'Not', 'Not', 'Not', 'Not', 'Not', 'Not', 'Not', 'Not', 'Not', 'Not', 'Not', 'Not', 'Not', 'Not', 'Not', 'Not', 'Not', 'Not', 'Not', 'Not', 'Not', 'Not', 'Not', 'Not', 'Not', 'Not', 'Not', 'Not', 'Not', 'Not', 'Not', 'Not', 'Not', 'Not', 'Not', 'Not', 'Not', 'Not', 'Not', 'Not', 'Not']\n"
          ],
          "name": "stdout"
        }
      ]
    },
    {
      "cell_type": "code",
      "metadata": {
        "id": "bq3nRXBGLTXQ",
        "colab_type": "code",
        "colab": {}
      },
      "source": [
        "#switching labels of tweets which are sarcastic\n",
        "for i in range(len(results)):\n",
        "    if sarclist[i] == 'Sarcastic' and results[i] == 0:\n",
        "        results[i] = 1\n",
        "    elif sarclist[i] == 'Sarcastic' and results[i] == 1:\n",
        "        results[i] = 0"
      ],
      "execution_count": 0,
      "outputs": []
    },
    {
      "cell_type": "code",
      "metadata": {
        "id": "7cNxnP5SMncY",
        "colab_type": "code",
        "outputId": "857f2ad2-5a94-4440-b6e7-831c3187c7cf",
        "colab": {
          "base_uri": "https://localhost:8080/",
          "height": 34
        }
      },
      "source": [
        "#Final accuracy of model with sarcasm included\n",
        "accuracy_ensemble = (np.mean(results == y_test.argmax(axis = 1)))\n",
        "print('Accuracy of the Ensemble model:', accuracy_ensemble)"
      ],
      "execution_count": 0,
      "outputs": [
        {
          "output_type": "stream",
          "text": [
            "Accuracy of the Ensemble model: 0.8805970149253731\n"
          ],
          "name": "stdout"
        }
      ]
    }
  ]
}